{
  "nbformat": 4,
  "nbformat_minor": 0,
  "metadata": {
    "colab": {
      "name": "notebookwikipedia.ipynb",
      "provenance": [],
      "collapsed_sections": [],
      "mount_file_id": "1EscekTS86v-uvHzQmqxeMlid9L8HUscP",
      "authorship_tag": "ABX9TyNYkF2WAiqoS4G1eRonqUw5",
      "include_colab_link": true
    },
    "kernelspec": {
      "name": "python3",
      "display_name": "Python 3"
    }
  },
  "cells": [
    {
      "cell_type": "markdown",
      "metadata": {
        "id": "view-in-github",
        "colab_type": "text"
      },
      "source": [
        "<a href=\"https://colab.research.google.com/github/moissinac/DMWikipedia/blob/main/notebookwikipedia.ipynb\" target=\"_parent\"><img src=\"https://colab.research.google.com/assets/colab-badge.svg\" alt=\"Open In Colab\"/></a>"
      ]
    },
    {
      "cell_type": "code",
      "metadata": {
        "id": "vZHkWkU2JgV6"
      },
      "source": [
        ""
      ],
      "execution_count": 4,
      "outputs": []
    },
    {
      "cell_type": "markdown",
      "metadata": {
        "id": "VY341f1FJrwD"
      },
      "source": [
        "Importer les librairies"
      ]
    },
    {
      "cell_type": "code",
      "metadata": {
        "id": "g3nwIBUyJiqE"
      },
      "source": [
        "import networkx as nx\r\n",
        "import pandas as pd\r\n",
        "import numpy as np\r\n",
        "import random\r\n",
        "from tqdm import tqdm\r\n",
        "from sklearn.decomposition import PCA\r\n",
        "\r\n",
        "import matplotlib.pyplot as plt\r\n",
        "%matplotlib inline\r\n"
      ],
      "execution_count": 5,
      "outputs": []
    },
    {
      "cell_type": "markdown",
      "metadata": {
        "id": "-veXILcdJxqP"
      },
      "source": [
        "Charger le dataset obtenu avec https://densitydesign.github.io/strumentalia-seealsology/ en utilisant la liste d'url de wikipedia suivante\r\n",
        "https://fr.wikipedia.org/wiki/Musée_Carnavalet\r\n",
        "https://fr.wikipedia.org/wiki/Palais_Galliera,_musée_de_la_Mode_de_la_ville_de_Paris\r\n",
        "https://fr.wikipedia.org/wiki/Crypte_archéologique_de_lîle_de_la_Cité\r\n",
        "https://fr.wikipedia.org/wiki/Musée_des_arts_décoratifs_de_Paris\r\n",
        "https://fr.wikipedia.org/wiki/Paris_Musées\r\n",
        "https://fr.wikipedia.org/wiki/Maison_de_Balzac\r\n",
        "https://fr.wikipedia.org/wiki/Musée_Bourdelle\r\n",
        "https://fr.wikipedia.org/wiki/Petit_Palais\r\n",
        "https://fr.wikipedia.org/wiki/Musée_Zadkine\r\n",
        "https://fr.wikipedia.org/wiki/Musée_du_Général_Leclerc_de_Hauteclocque_et_de_la_Libération_de_Paris_-_musée_Jean-Moulin\r\n",
        "https://fr.wikipedia.org/wiki/Musée_Cernuschi\r\n",
        "https://fr.wikipedia.org/wiki/Mus%C3%A9e_de_la_Vie_romantique\r\n",
        "https://fr.wikipedia.org/wiki/Mus%C3%A9e_de_la_Vie_romantique\r\n",
        "https://fr.wikipedia.org/wiki/Mus%C3%A9e_Cognacq-Jay\r\n",
        "\r\n",
        "en enlevant tout ce qui concerne les catégories dans les filtres par défaut"
      ]
    },
    {
      "cell_type": "code",
      "metadata": {
        "colab": {
          "base_uri": "https://localhost:8080/",
          "height": 204
        },
        "id": "q2I67s7-Jz7t",
        "outputId": "067da9de-9359-4467-a536-099945a3e523"
      },
      "source": [
        "df = pd.read_csv(\"/content/drive/MyDrive/DataMusée/Données/parismusees_niveau5_data.tsv\", sep = \"\\t\")\r\n",
        "#df = pd.read_csv(\"sample_data/parismusees_niveau5_data.tsv\", sep = \"\\t\")\r\n",
        "df.head()"
      ],
      "execution_count": 15,
      "outputs": [
        {
          "output_type": "execute_result",
          "data": {
            "text/html": [
              "<div>\n",
              "<style scoped>\n",
              "    .dataframe tbody tr th:only-of-type {\n",
              "        vertical-align: middle;\n",
              "    }\n",
              "\n",
              "    .dataframe tbody tr th {\n",
              "        vertical-align: top;\n",
              "    }\n",
              "\n",
              "    .dataframe thead th {\n",
              "        text-align: right;\n",
              "    }\n",
              "</style>\n",
              "<table border=\"1\" class=\"dataframe\">\n",
              "  <thead>\n",
              "    <tr style=\"text-align: right;\">\n",
              "      <th></th>\n",
              "      <th>source</th>\n",
              "      <th>target</th>\n",
              "      <th>depth</th>\n",
              "    </tr>\n",
              "  </thead>\n",
              "  <tbody>\n",
              "    <tr>\n",
              "      <th>0</th>\n",
              "      <td>musée cognacq-jay</td>\n",
              "      <td>ernest cognacq</td>\n",
              "      <td>1</td>\n",
              "    </tr>\n",
              "    <tr>\n",
              "      <th>1</th>\n",
              "      <td>musée cognacq-jay</td>\n",
              "      <td>marie-louise jaÿ</td>\n",
              "      <td>1</td>\n",
              "    </tr>\n",
              "    <tr>\n",
              "      <th>2</th>\n",
              "      <td>musée cognacq-jay</td>\n",
              "      <td>hôtel de donon</td>\n",
              "      <td>1</td>\n",
              "    </tr>\n",
              "    <tr>\n",
              "      <th>3</th>\n",
              "      <td>musée cognacq-jay</td>\n",
              "      <td>musée ernest-cognacq</td>\n",
              "      <td>1</td>\n",
              "    </tr>\n",
              "    <tr>\n",
              "      <th>4</th>\n",
              "      <td>musée de la vie romantique</td>\n",
              "      <td>ary scheffer</td>\n",
              "      <td>1</td>\n",
              "    </tr>\n",
              "  </tbody>\n",
              "</table>\n",
              "</div>"
            ],
            "text/plain": [
              "                       source                target  depth\n",
              "0           musée cognacq-jay        ernest cognacq      1\n",
              "1           musée cognacq-jay      marie-louise jaÿ      1\n",
              "2           musée cognacq-jay        hôtel de donon      1\n",
              "3           musée cognacq-jay  musée ernest-cognacq      1\n",
              "4  musée de la vie romantique          ary scheffer      1"
            ]
          },
          "metadata": {
            "tags": []
          },
          "execution_count": 15
        }
      ]
    },
    {
      "cell_type": "markdown",
      "metadata": {
        "id": "7s4lzK_dLIhS"
      },
      "source": [
        "Construire le graphe"
      ]
    },
    {
      "cell_type": "code",
      "metadata": {
        "colab": {
          "base_uri": "https://localhost:8080/"
        },
        "id": "SgNA6VzhLKoR",
        "outputId": "67865168-37ca-4454-d03f-14a7b68cb152"
      },
      "source": [
        "G = nx.from_pandas_edgelist(df, \"source\", \"target\", edge_attr=True, create_using=nx.Graph())\r\n",
        "len(G)"
      ],
      "execution_count": 7,
      "outputs": [
        {
          "output_type": "execute_result",
          "data": {
            "text/plain": [
              "4188"
            ]
          },
          "metadata": {
            "tags": []
          },
          "execution_count": 7
        }
      ]
    },
    {
      "cell_type": "markdown",
      "metadata": {
        "id": "mHalsrycLel_"
      },
      "source": [
        "Définir comment faire les random walks"
      ]
    },
    {
      "cell_type": "code",
      "metadata": {
        "id": "GWYkT0tILim-"
      },
      "source": [
        "def get_randomwalk(node, path_length):\r\n",
        "    \r\n",
        "    random_walk = [node]\r\n",
        "    \r\n",
        "    for i in range(path_length-1):\r\n",
        "        temp = list(G.neighbors(node))\r\n",
        "        temp = list(set(temp) - set(random_walk))    \r\n",
        "        if len(temp) == 0:\r\n",
        "            break\r\n",
        "\r\n",
        "        random_node = random.choice(temp)\r\n",
        "        random_walk.append(random_node)\r\n",
        "        node = random_node\r\n",
        "        \r\n",
        "    return random_walk\r\n"
      ],
      "execution_count": 8,
      "outputs": []
    },
    {
      "cell_type": "markdown",
      "metadata": {
        "id": "dO2OQATXLoN-"
      },
      "source": [
        "Tester un random walk"
      ]
    },
    {
      "cell_type": "code",
      "metadata": {
        "colab": {
          "base_uri": "https://localhost:8080/"
        },
        "id": "JwxmdxTkLqxc",
        "outputId": "27e89133-f7aa-4430-e340-b50ce6b08f87"
      },
      "source": [
        "get_randomwalk('musée de la vie romantique', 10)"
      ],
      "execution_count": 9,
      "outputs": [
        {
          "output_type": "execute_result",
          "data": {
            "text/plain": [
              "['musée de la vie romantique',\n",
              " 'peinture romantique',\n",
              " 'peinture néo-classique',\n",
              " 'jean-auguste-dominique ingres']"
            ]
          },
          "metadata": {
            "tags": []
          },
          "execution_count": 9
        }
      ]
    },
    {
      "cell_type": "markdown",
      "metadata": {
        "id": "oPDyRDpgL7Ii"
      },
      "source": [
        "Calculer 5 walks de profondeur 10 pour chaque entité du graphe"
      ]
    },
    {
      "cell_type": "code",
      "metadata": {
        "colab": {
          "base_uri": "https://localhost:8080/"
        },
        "id": "11MI7bZHMFsU",
        "outputId": "48d8db19-8d69-4842-fcb8-8d65ffe998e5"
      },
      "source": [
        "# get list of all nodes from the graph\r\n",
        "all_nodes = list(G.nodes())\r\n",
        "\r\n",
        "random_walks = []\r\n",
        "for n in tqdm(all_nodes):\r\n",
        "    for i in range(5):\r\n",
        "        random_walks.append(get_randomwalk(n,10))\r\n",
        "        \r\n",
        "# count of sequences\r\n",
        "len(random_walks)"
      ],
      "execution_count": 10,
      "outputs": [
        {
          "output_type": "stream",
          "text": [
            "100%|██████████| 4188/4188 [00:00<00:00, 9197.78it/s]\n"
          ],
          "name": "stderr"
        },
        {
          "output_type": "execute_result",
          "data": {
            "text/plain": [
              "20940"
            ]
          },
          "metadata": {
            "tags": []
          },
          "execution_count": 10
        }
      ]
    },
    {
      "cell_type": "markdown",
      "metadata": {
        "id": "Ugy7DME7MgS8"
      },
      "source": [
        "Prépare word2vec"
      ]
    },
    {
      "cell_type": "code",
      "metadata": {
        "id": "BuWWzneTMi9-"
      },
      "source": [
        "from gensim.models import Word2Vec\r\n",
        "\r\n",
        "import warnings\r\n",
        "warnings.filterwarnings('ignore')"
      ],
      "execution_count": 11,
      "outputs": []
    },
    {
      "cell_type": "markdown",
      "metadata": {
        "id": "jDjkrbhEMlMk"
      },
      "source": [
        "Calcule le modèle skip-gram"
      ]
    },
    {
      "cell_type": "code",
      "metadata": {
        "colab": {
          "base_uri": "https://localhost:8080/"
        },
        "id": "cVhOgEx6MpuD",
        "outputId": "ba9d1d97-9fe1-43a7-9532-18d57ff08674"
      },
      "source": [
        "# train skip-gram (word2vec) model\r\n",
        "model = Word2Vec(window = 4, sg = 1, hs = 0,\r\n",
        "                 negative = 10, # for negative sampling\r\n",
        "                 alpha=0.03, min_alpha=0.0007,\r\n",
        "                 seed = 14)\r\n",
        "\r\n",
        "model.build_vocab(random_walks, progress_per=2)\r\n",
        "\r\n",
        "model.train(random_walks, total_examples = model.corpus_count, epochs=20, report_delay=1)"
      ],
      "execution_count": 12,
      "outputs": [
        {
          "output_type": "execute_result",
          "data": {
            "text/plain": [
              "(1880449, 1988420)"
            ]
          },
          "metadata": {
            "tags": []
          },
          "execution_count": 12
        }
      ]
    },
    {
      "cell_type": "markdown",
      "metadata": {
        "id": "B0k2uZztM-7o"
      },
      "source": [
        "Trouver les entités les plus similaires de musée de la vie romantique"
      ]
    },
    {
      "cell_type": "code",
      "metadata": {
        "colab": {
          "base_uri": "https://localhost:8080/"
        },
        "id": "eZt4L6WHNLAV",
        "outputId": "3fa2a55f-cdab-426a-d3bc-bb5c5f6f11b5"
      },
      "source": [
        "model.similar_by_word('musée de la vie romantique')"
      ],
      "execution_count": 13,
      "outputs": [
        {
          "output_type": "execute_result",
          "data": {
            "text/plain": [
              "[('ary scheffer', 0.9481973648071289),\n",
              " ('peinture romantique', 0.9469882249832153),\n",
              " ('jean-auguste-dominique ingres', 0.8812362551689148),\n",
              " ('maurice de saxe (1696-1750)', 0.8786525726318359),\n",
              " ('marie-aurore de saxe', 0.8751312494277954),\n",
              " ('peinture française du xixe siècle', 0.8660030364990234),\n",
              " ('sculpture française du xixe siècle', 0.8597906827926636),\n",
              " ('raphaël mengs', 0.859208345413208),\n",
              " ('style empire', 0.8575707674026489),\n",
              " ('romantisme français', 0.8536772131919861)]"
            ]
          },
          "metadata": {
            "tags": []
          },
          "execution_count": 13
        }
      ]
    },
    {
      "cell_type": "markdown",
      "metadata": {
        "id": "K_fw-GVLNcmv"
      },
      "source": [
        "Affichage 2D de la projection 2D des vecteurs d'un ensemble d'entité"
      ]
    },
    {
      "cell_type": "code",
      "metadata": {
        "colab": {
          "base_uri": "https://localhost:8080/",
          "height": 538
        },
        "id": "J6KpK0hGNpAu",
        "outputId": "0d03b076-2be1-4e6a-f6cf-5c25733ac51d"
      },
      "source": [
        "terms = ['musée carnavalet', 'musée cernuschi', 'musée de la vie romantique',\r\n",
        "         'musée cognacq-jay', 'musée national des arts asiatiques-guimet',\r\n",
        "         'palais galliera, musée de la mode de la ville de paris',\r\n",
        "         \"crypte archéologique de l'île de la cité\",\r\n",
        "         'catacombes de paris', 'maison de balzac',\r\n",
        "         'musée des arts décoratifs de paris', 'musée de la publicité',\r\n",
        "         'musée bourdelle', 'musée de la sculpture cham',\r\n",
        "         'musée ernest-cognacq']\r\n",
        "def plot_nodes(word_list):\r\n",
        "    X = model[word_list]\r\n",
        "    \r\n",
        "    # reduce dimensions to 2\r\n",
        "    pca = PCA(n_components=2)\r\n",
        "    result = pca.fit_transform(X)\r\n",
        "    \r\n",
        "    \r\n",
        "    plt.figure(figsize=(12,9))\r\n",
        "    # create a scatter plot of the projection\r\n",
        "    plt.scatter(result[:, 0], result[:, 1])\r\n",
        "    for i, word in enumerate(word_list):\r\n",
        "        plt.annotate(word, xy=(result[i, 0], result[i, 1]))\r\n",
        "        \r\n",
        "    plt.show()\r\n",
        "\r\n",
        "plot_nodes(terms)"
      ],
      "execution_count": 14,
      "outputs": [
        {
          "output_type": "display_data",
          "data": {
            "image/png": "[encoded data removed]",
            "text/plain": [
              "<Figure size 864x648 with 1 Axes>"
            ]
          },
          "metadata": {
            "tags": [],
            "needs_background": "light"
          }
        }
      ]
    }
  ]
}